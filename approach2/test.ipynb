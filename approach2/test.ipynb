{
 "cells": [
  {
   "cell_type": "code",
   "execution_count": 1,
   "metadata": {},
   "outputs": [],
   "source": [
    "from load_model import load_model\n",
    "from accelerate import Accelerator\n",
    "from dataset import get_dataloader\n",
    "from tqdm.auto import tqdm\n",
    "import torch\n"
   ]
  },
  {
   "cell_type": "code",
   "execution_count": 2,
   "metadata": {},
   "outputs": [
    {
     "name": "stderr",
     "output_type": "stream",
     "text": [
      "/home/iker/miniconda3/envs/transformers/lib/python3.11/site-packages/huggingface_hub/file_download.py:1132: FutureWarning: `resume_download` is deprecated and will be removed in version 1.0.0. Downloads always resume when possible. If you want to force a new download, use `force_download=True`.\n",
      "  warnings.warn(\n",
      "WARNING:root:Model google/gemma-2b-it is an decoder-only model. We will load it as a CausalLM model.\n",
      "`low_cpu_mem_usage` was None, now set to True since model is quantized.\n",
      "`config.hidden_act` is ignored, you should use `config.hidden_activation` instead.\n",
      "Gemma's activation function will be set to `gelu_pytorch_tanh`. Please, use\n",
      "`config.hidden_activation` if you want to override this behaviour.\n",
      "See https://github.com/huggingface/transformers/pull/29402 for more details.\n"
     ]
    },
    {
     "data": {
      "application/vnd.jupyter.widget-view+json": {
       "model_id": "f806511aa04a401dbf6c8813e109b29a",
       "version_major": 2,
       "version_minor": 0
      },
      "text/plain": [
       "Loading checkpoint shards:   0%|          | 0/2 [00:00<?, ?it/s]"
      ]
     },
     "metadata": {},
     "output_type": "display_data"
    },
    {
     "name": "stdout",
     "output_type": "stream",
     "text": [
      "Loading dataset from ../data/daily_dialog_validation.jsonl\n",
      "Loaded 1000 lines from ../data/daily_dialog_validation.jsonl\n"
     ]
    },
    {
     "data": {
      "application/vnd.jupyter.widget-view+json": {
       "model_id": "356444459ee446c6936b98d43ad174f2",
       "version_major": 2,
       "version_minor": 0
      },
      "text/plain": [
       "Preparing input:   0%|          | 0/1000 [00:00<?, ?it/s]"
      ]
     },
     "metadata": {},
     "output_type": "display_data"
    },
    {
     "name": "stdout",
     "output_type": "stream",
     "text": [
      "Prepared 4000 examples\n"
     ]
    }
   ],
   "source": [
    "model_name_or_path = \"google/gemma-2b-it\"\n",
    "dataset_path = \"../data/daily_dialog_validation.jsonl\"\n",
    "batch_size = 2\n",
    "\n",
    "model, tokenizer = load_model(\n",
    "        inference=True, model_weights_name_or_path=model_name_or_path, quantization=4\n",
    "    )\n",
    "\n",
    "test_dataloader = get_dataloader(\n",
    "        dataset_path=dataset_path,\n",
    "        tokenizer=tokenizer,\n",
    "        batch_size=batch_size,\n",
    "    )\n"
   ]
  },
  {
   "cell_type": "code",
   "execution_count": null,
   "metadata": {},
   "outputs": [],
   "source": []
  },
  {
   "cell_type": "code",
   "execution_count": 3,
   "metadata": {},
   "outputs": [
    {
     "name": "stdout",
     "output_type": "stream",
     "text": [
      "***** Running Evaluation *****\n",
      "  Num examples = %d 4000\n",
      "  Batch size = %d 2\n"
     ]
    }
   ],
   "source": [
    "accelerator = Accelerator()\n",
    "model, test_dataloader = accelerator.prepare(model, test_dataloader)\n",
    "\n",
    "model.eval()\n",
    "\n",
    "if accelerator.is_local_main_process:\n",
    "    print(\"***** Running Evaluation *****\")\n",
    "    print(f\"  Num examples = {len(test_dataloader.dataset)}\")\n",
    "    print(f\"  Batch size = {batch_size}\")"
   ]
  },
  {
   "cell_type": "code",
   "execution_count": null,
   "metadata": {},
   "outputs": [],
   "source": [
    "losses = []\n",
    "for batch in tqdm(test_dataloader, desc=\"Evaluating\"):\n",
    "    labels = batch.pop(\"labels\")\n",
    "    loss_weight_mask = batch.pop(\"loss_weight_mask\")\n",
    "    outputs = model(\n",
    "        input_ids=batch.input_ids,\n",
    "        attention_mask=batch.attention_mask,\n",
    "    )\n",
    "    logits = outputs[\"logits\"] if isinstance(outputs, dict) else outputs[0]\n",
    "    break\n",
    "    logits = logits[..., :-1, :].contiguous()\n",
    "    labels = labels[..., 1:].contiguous()\n",
    "    loss_weight_mask = loss_weight_mask[..., 1:].contiguous()\n",
    "\n",
    "    \n",
    "    logits = logits.view(-1, logits.size(-1))\n",
    "    labels = labels.view(-1)\n",
    "    loss_weight_mask = loss_weight_mask.view(-1)\n",
    "    "
   ]
  }
 ],
 "metadata": {
  "kernelspec": {
   "display_name": "transformers",
   "language": "python",
   "name": "python3"
  },
  "language_info": {
   "codemirror_mode": {
    "name": "ipython",
    "version": 3
   },
   "file_extension": ".py",
   "mimetype": "text/x-python",
   "name": "python",
   "nbconvert_exporter": "python",
   "pygments_lexer": "ipython3",
   "version": "3.11.5"
  }
 },
 "nbformat": 4,
 "nbformat_minor": 2
}
