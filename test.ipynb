{
 "cells": [
  {
   "cell_type": "code",
   "execution_count": 1,
   "metadata": {},
   "outputs": [],
   "source": [
    "from transformers import PreTrainedTokenizer, BatchEncoding, DataCollatorWithPadding"
   ]
  },
  {
   "cell_type": "code",
   "execution_count": 12,
   "metadata": {},
   "outputs": [
    {
     "name": "stderr",
     "output_type": "stream",
     "text": [
      "/home/iker/miniconda3/envs/transformers/lib/python3.11/site-packages/huggingface_hub/file_download.py:1132: FutureWarning: `resume_download` is deprecated and will be removed in version 1.0.0. Downloads always resume when possible. If you want to force a new download, use `force_download=True`.\n",
      "  warnings.warn(\n",
      "Some weights of XLMRobertaForSequenceClassification were not initialized from the model checkpoint at FacebookAI/xlm-roberta-base and are newly initialized: ['classifier.dense.bias', 'classifier.dense.weight', 'classifier.out_proj.bias', 'classifier.out_proj.weight']\n",
      "You should probably TRAIN this model on a down-stream task to be able to use it for predictions and inference.\n"
     ]
    }
   ],
   "source": [
    "# Load model directly\n",
    "from transformers import AutoTokenizer, AutoModelForSequenceClassification, AutoConfig\n",
    "\n",
    "tokenizer = AutoTokenizer.from_pretrained(\"FacebookAI/xlm-roberta-base\")\n",
    "config = AutoConfig.from_pretrained(\"FacebookAI/xlm-roberta-base\")\n",
    "config.update({\"num_labels\": 2})\n",
    "model = AutoModelForSequenceClassification.from_pretrained(\"FacebookAI/xlm-roberta-base\", config=config)"
   ]
  },
  {
   "cell_type": "code",
   "execution_count": 24,
   "metadata": {},
   "outputs": [
    {
     "data": {
      "text/plain": [
       "[{'input_ids': [0, 35378, 4, 903, 1632, 149357, 38, 2, 2, 3493, 903, 149357, 60899, 678, 442, 5, 2], 'attention_mask': [1, 1, 1, 1, 1, 1, 1, 1, 1, 1, 1, 1, 1, 1, 1, 1, 1], 'label': 0},\n",
       " {'input_ids': [0, 35378, 304, 2, 2, 18621, 1272, 13, 304, 2], 'attention_mask': [1, 1, 1, 1, 1, 1, 1, 1, 1, 1], 'label': 0}]"
      ]
     },
     "execution_count": 24,
     "metadata": {},
     "output_type": "execute_result"
    }
   ],
   "source": [
    "sentences = [[\"Hello, this one sentence!\", \"And this sentence goes with it.\"],\n",
    "            [ \"Hello2\", \"Goodbye2\"],\n",
    "]\n",
    "\n",
    "model_inputs = []\n",
    "\n",
    "for sentence in sentences:\n",
    "    inputs = tokenizer(sentence[0], sentence[1],           add_special_tokens=True,\n",
    "            padding=\"do_not_pad\",\n",
    "            truncation=False,)\n",
    "    inputs[\"label\"] = 0\n",
    "    model_inputs.append(inputs)\n",
    "\n",
    "model_inputs"
   ]
  },
  {
   "cell_type": "code",
   "execution_count": 21,
   "metadata": {},
   "outputs": [
    {
     "data": {
      "text/plain": [
       "'<s> Hello, this one sentence!</s></s> And this sentence goes with it.</s>'"
      ]
     },
     "execution_count": 21,
     "metadata": {},
     "output_type": "execute_result"
    }
   ],
   "source": [
    "tokenizer.decode([0, 35378, 4, 903, 1632, 149357, 38, 2, 2, 3493, 903, 149357, 60899, 678, 442, 5, 2])"
   ]
  },
  {
   "cell_type": "code",
   "execution_count": 29,
   "metadata": {},
   "outputs": [],
   "source": [
    "from transformers import DataCollatorWithPadding\n",
    "\n",
    "data_collator = DataCollatorWithPadding(tokenizer=tokenizer,pad_to_multiple_of=8,padding=True, return_tensors=\"pt\")"
   ]
  },
  {
   "cell_type": "code",
   "execution_count": 28,
   "metadata": {},
   "outputs": [
    {
     "data": {
      "text/plain": [
       "{'input_ids': tensor([[     0,  35378,      4,    903,   1632, 149357,     38,      2,      2,\n",
       "           3493,    903, 149357,  60899,    678,    442,      5,      2,      1,\n",
       "              1,      1,      1,      1,      1,      1],\n",
       "        [     0,  35378,    304,      2,      2,  18621,   1272,     13,    304,\n",
       "              2,      1,      1,      1,      1,      1,      1,      1,      1,\n",
       "              1,      1,      1,      1,      1,      1]]), 'attention_mask': tensor([[1, 1, 1, 1, 1, 1, 1, 1, 1, 1, 1, 1, 1, 1, 1, 1, 1, 0, 0, 0, 0, 0, 0, 0],\n",
       "        [1, 1, 1, 1, 1, 1, 1, 1, 1, 1, 0, 0, 0, 0, 0, 0, 0, 0, 0, 0, 0, 0, 0, 0]]), 'labels': tensor([0, 0])}"
      ]
     },
     "execution_count": 28,
     "metadata": {},
     "output_type": "execute_result"
    }
   ],
   "source": [
    "data_collator(model_inputs)"
   ]
  },
  {
   "cell_type": "code",
   "execution_count": 39,
   "metadata": {},
   "outputs": [],
   "source": []
  },
  {
   "cell_type": "code",
   "execution_count": 44,
   "metadata": {},
   "outputs": [
    {
     "name": "stdout",
     "output_type": "stream",
     "text": [
      "Loading dataset from data/daily_dialog_validation.jsonl\n",
      "Loaded 1000 lines from data/daily_dialog_validation.jsonl\n"
     ]
    },
    {
     "data": {
      "application/vnd.jupyter.widget-view+json": {
       "model_id": "9b1858f4e66e4fb889d575732f6214c6",
       "version_major": 2,
       "version_minor": 0
      },
      "text/plain": [
       "Preparing input:   0%|          | 0/1000 [00:00<?, ?it/s]"
      ]
     },
     "metadata": {},
     "output_type": "display_data"
    },
    {
     "name": "stderr",
     "output_type": "stream",
     "text": [
      "WARNING:root:Input length 599 exceeds max_length 512. We will truncate this example.\n",
      "WARNING:root:Input length 575 exceeds max_length 512. We will truncate this example.\n",
      "WARNING:root:Input length 586 exceeds max_length 512. We will truncate this example.\n",
      "WARNING:root:Input length 580 exceeds max_length 512. We will truncate this example.\n",
      "WARNING:root:Input length 513 exceeds max_length 512. We will truncate this example.\n"
     ]
    },
    {
     "name": "stdout",
     "output_type": "stream",
     "text": [
      "Prepared 4000 examples\n"
     ]
    }
   ],
   "source": [
    "import importlib\n",
    "import load_dataset\n",
    "importlib.reload(load_dataset)\n",
    "\n",
    "from load_dataset import get_dataloader\n",
    "\n",
    "dataloader = get_dataloader(\n",
    "    dataset_path=\"data/daily_dialog_validation.jsonl\",\n",
    "    tokenizer=tokenizer,\n",
    "    batch_size=8,\n",
    "    shuffle=False,\n",
    "    max_length=tokenizer.model_max_length,\n",
    ")"
   ]
  },
  {
   "cell_type": "code",
   "execution_count": 45,
   "metadata": {},
   "outputs": [
    {
     "name": "stdout",
     "output_type": "stream",
     "text": [
      "{'input_ids': tensor([[ 0, 62, 12,  ...,  1,  1,  1],\n",
      "        [ 0, 62, 12,  ...,  1,  1,  1],\n",
      "        [ 0, 62, 12,  ...,  1,  1,  1],\n",
      "        ...,\n",
      "        [ 0, 62, 12,  ...,  1,  1,  1],\n",
      "        [ 0, 62, 12,  ...,  1,  1,  1],\n",
      "        [ 0, 62, 12,  ...,  1,  1,  1]]), 'attention_mask': tensor([[1, 1, 1,  ..., 0, 0, 0],\n",
      "        [1, 1, 1,  ..., 0, 0, 0],\n",
      "        [1, 1, 1,  ..., 0, 0, 0],\n",
      "        ...,\n",
      "        [1, 1, 1,  ..., 0, 0, 0],\n",
      "        [1, 1, 1,  ..., 0, 0, 0],\n",
      "        [1, 1, 1,  ..., 0, 0, 0]]), 'labels': tensor([0, 0, 0, 1, 1, 0, 0, 0])}\n"
     ]
    }
   ],
   "source": [
    "for batch in dataloader:\n",
    "    print(batch)\n",
    "    break"
   ]
  },
  {
   "cell_type": "code",
   "execution_count": 47,
   "metadata": {},
   "outputs": [
    {
     "data": {
      "text/plain": [
       "[\"<s> A: Good morning, sir. Is there a bank near here? B: There is one. 5 blocks away from here? A: Well, that's too far.Can you change some money for me?</s></s> Alright. I'm sorry, Miss. According to our file, this prescription has already been refilled twice.</s><pad><pad><pad><pad><pad><pad><pad><pad><pad><pad><pad><pad><pad><pad><pad><pad><pad><pad><pad><pad><pad><pad><pad><pad><pad><pad><pad><pad><pad><pad><pad><pad><pad><pad><pad><pad><pad><pad><pad><pad><pad><pad><pad><pad><pad><pad><pad><pad><pad><pad><pad><pad><pad><pad><pad><pad><pad><pad><pad><pad><pad><pad><pad><pad><pad><pad><pad><pad><pad><pad><pad><pad><pad><pad><pad><pad><pad><pad><pad><pad><pad><pad><pad><pad><pad><pad><pad><pad><pad><pad><pad><pad><pad><pad><pad><pad><pad><pad><pad><pad><pad><pad><pad><pad><pad><pad><pad><pad><pad><pad><pad><pad><pad><pad><pad><pad><pad><pad><pad><pad><pad><pad><pad><pad><pad><pad><pad><pad><pad><pad><pad><pad><pad><pad><pad><pad><pad><pad><pad><pad><pad><pad><pad><pad><pad><pad><pad><pad><pad><pad><pad><pad><pad><pad><pad><pad><pad><pad><pad><pad><pad><pad><pad><pad><pad><pad><pad><pad><pad><pad><pad><pad>\",\n",
       " \"<s> A: Good morning, sir. Is there a bank near here? B: There is one. 5 blocks away from here? A: Well, that's too far.Can you change some money for me?</s></s> Of course, let me help you.</s><pad><pad><pad><pad><pad><pad><pad><pad><pad><pad><pad><pad><pad><pad><pad><pad><pad><pad><pad><pad><pad><pad><pad><pad><pad><pad><pad><pad><pad><pad><pad><pad><pad><pad><pad><pad><pad><pad><pad><pad><pad><pad><pad><pad><pad><pad><pad><pad><pad><pad><pad><pad><pad><pad><pad><pad><pad><pad><pad><pad><pad><pad><pad><pad><pad><pad><pad><pad><pad><pad><pad><pad><pad><pad><pad><pad><pad><pad><pad><pad><pad><pad><pad><pad><pad><pad><pad><pad><pad><pad><pad><pad><pad><pad><pad><pad><pad><pad><pad><pad><pad><pad><pad><pad><pad><pad><pad><pad><pad><pad><pad><pad><pad><pad><pad><pad><pad><pad><pad><pad><pad><pad><pad><pad><pad><pad><pad><pad><pad><pad><pad><pad><pad><pad><pad><pad><pad><pad><pad><pad><pad><pad><pad><pad><pad><pad><pad><pad><pad><pad><pad><pad><pad><pad><pad><pad><pad><pad><pad><pad><pad><pad><pad><pad><pad><pad><pad><pad><pad><pad><pad><pad><pad><pad><pad><pad><pad><pad><pad><pad><pad><pad><pad><pad><pad><pad><pad><pad><pad><pad><pad><pad><pad>\",\n",
       " \"<s> A: Good morning, sir. Is there a bank near here? B: There is one. 5 blocks away from here? A: Well, that's too far.Can you change some money for me?</s></s> Would you mind if I ask some personal questions?</s><pad><pad><pad><pad><pad><pad><pad><pad><pad><pad><pad><pad><pad><pad><pad><pad><pad><pad><pad><pad><pad><pad><pad><pad><pad><pad><pad><pad><pad><pad><pad><pad><pad><pad><pad><pad><pad><pad><pad><pad><pad><pad><pad><pad><pad><pad><pad><pad><pad><pad><pad><pad><pad><pad><pad><pad><pad><pad><pad><pad><pad><pad><pad><pad><pad><pad><pad><pad><pad><pad><pad><pad><pad><pad><pad><pad><pad><pad><pad><pad><pad><pad><pad><pad><pad><pad><pad><pad><pad><pad><pad><pad><pad><pad><pad><pad><pad><pad><pad><pad><pad><pad><pad><pad><pad><pad><pad><pad><pad><pad><pad><pad><pad><pad><pad><pad><pad><pad><pad><pad><pad><pad><pad><pad><pad><pad><pad><pad><pad><pad><pad><pad><pad><pad><pad><pad><pad><pad><pad><pad><pad><pad><pad><pad><pad><pad><pad><pad><pad><pad><pad><pad><pad><pad><pad><pad><pad><pad><pad><pad><pad><pad><pad><pad><pad><pad><pad><pad><pad><pad><pad><pad><pad><pad><pad><pad><pad><pad><pad><pad><pad><pad><pad><pad><pad><pad><pad><pad><pad><pad><pad><pad><pad>\",\n",
       " \"<s> A: Good morning, sir. Is there a bank near here? B: There is one. 5 blocks away from here? A: Well, that's too far.Can you change some money for me?</s></s> Surely, of course. What kind of currency have you got?</s><pad><pad><pad><pad><pad><pad><pad><pad><pad><pad><pad><pad><pad><pad><pad><pad><pad><pad><pad><pad><pad><pad><pad><pad><pad><pad><pad><pad><pad><pad><pad><pad><pad><pad><pad><pad><pad><pad><pad><pad><pad><pad><pad><pad><pad><pad><pad><pad><pad><pad><pad><pad><pad><pad><pad><pad><pad><pad><pad><pad><pad><pad><pad><pad><pad><pad><pad><pad><pad><pad><pad><pad><pad><pad><pad><pad><pad><pad><pad><pad><pad><pad><pad><pad><pad><pad><pad><pad><pad><pad><pad><pad><pad><pad><pad><pad><pad><pad><pad><pad><pad><pad><pad><pad><pad><pad><pad><pad><pad><pad><pad><pad><pad><pad><pad><pad><pad><pad><pad><pad><pad><pad><pad><pad><pad><pad><pad><pad><pad><pad><pad><pad><pad><pad><pad><pad><pad><pad><pad><pad><pad><pad><pad><pad><pad><pad><pad><pad><pad><pad><pad><pad><pad><pad><pad><pad><pad><pad><pad><pad><pad><pad><pad><pad><pad><pad><pad><pad><pad><pad><pad><pad><pad><pad><pad><pad><pad><pad><pad><pad><pad><pad><pad><pad><pad><pad><pad>\",\n",
       " \"<s> A: Good afternoon. This is Michelle Li speaking, calling on behalf of IBA. Is Mr Meng available at all? B: This is Mr Meng speaking, Michelle. A: Oh, hello! Sorry about that. I'm just calling to say that we've received your new Corporate Credit Card from HQ. B: That was quick! I wasn't expecting it until later this week. A: Yes, our application procedures have speeded up since we started using the new fast-track system. B: Shall I come in and collect it? A: Or we can send it to you. But if you would like to use it at the ATM, you'll need to wait for your PIN number. B: Mmmm... if I come in and collect it this afternoon, is there any way I could use it today? Petty cash is getting low, so I need to draw some money.</s></s> As long as you bring your ID, etc, we can serve you over the counter. But you won't be able to use the ATM until your new PIN number arrives.</s><pad>\",\n",
       " \"<s> A: Good afternoon. This is Michelle Li speaking, calling on behalf of IBA. Is Mr Meng available at all? B: This is Mr Meng speaking, Michelle. A: Oh, hello! Sorry about that. I'm just calling to say that we've received your new Corporate Credit Card from HQ. B: That was quick! I wasn't expecting it until later this week. A: Yes, our application procedures have speeded up since we started using the new fast-track system. B: Shall I come in and collect it? A: Or we can send it to you. But if you would like to use it at the ATM, you'll need to wait for your PIN number. B: Mmmm... if I come in and collect it this afternoon, is there any way I could use it today? Petty cash is getting low, so I need to draw some money.</s></s> So you need a quiet side room on the lower floor.</s><pad><pad><pad><pad><pad><pad><pad><pad><pad><pad><pad><pad><pad><pad><pad><pad><pad><pad><pad><pad><pad><pad><pad><pad><pad><pad><pad><pad><pad>\",\n",
       " \"<s> A: Good afternoon. This is Michelle Li speaking, calling on behalf of IBA. Is Mr Meng available at all? B: This is Mr Meng speaking, Michelle. A: Oh, hello! Sorry about that. I'm just calling to say that we've received your new Corporate Credit Card from HQ. B: That was quick! I wasn't expecting it until later this week. A: Yes, our application procedures have speeded up since we started using the new fast-track system. B: Shall I come in and collect it? A: Or we can send it to you. But if you would like to use it at the ATM, you'll need to wait for your PIN number. B: Mmmm... if I come in and collect it this afternoon, is there any way I could use it today? Petty cash is getting low, so I need to draw some money.</s></s> Do you have all these qualities?</s><pad><pad><pad><pad><pad><pad><pad><pad><pad><pad><pad><pad><pad><pad><pad><pad><pad><pad><pad><pad><pad><pad><pad><pad><pad><pad><pad><pad><pad><pad><pad><pad><pad><pad>\",\n",
       " \"<s> A: Good afternoon. This is Michelle Li speaking, calling on behalf of IBA. Is Mr Meng available at all? B: This is Mr Meng speaking, Michelle. A: Oh, hello! Sorry about that. I'm just calling to say that we've received your new Corporate Credit Card from HQ. B: That was quick! I wasn't expecting it until later this week. A: Yes, our application procedures have speeded up since we started using the new fast-track system. B: Shall I come in and collect it? A: Or we can send it to you. But if you would like to use it at the ATM, you'll need to wait for your PIN number. B: Mmmm... if I come in and collect it this afternoon, is there any way I could use it today? Petty cash is getting low, so I need to draw some money.</s></s> Nice to see you, Mrs. Smith.</s><pad><pad><pad><pad><pad><pad><pad><pad><pad><pad><pad><pad><pad><pad><pad><pad><pad><pad><pad><pad><pad><pad><pad><pad><pad><pad><pad><pad><pad><pad>\"]"
      ]
     },
     "execution_count": 47,
     "metadata": {},
     "output_type": "execute_result"
    }
   ],
   "source": [
    "tokenizer.batch_decode(batch[\"input_ids\"])"
   ]
  },
  {
   "cell_type": "code",
   "execution_count": 55,
   "metadata": {},
   "outputs": [
    {
     "data": {
      "text/plain": [
       "SequenceClassifierOutput(loss=tensor(0.6162, grad_fn=<NllLossBackward0>), logits=tensor([[0.4571, 0.0656],\n",
       "        [0.4512, 0.0647],\n",
       "        [0.4466, 0.0674],\n",
       "        [0.4483, 0.0670],\n",
       "        [0.4504, 0.0729],\n",
       "        [0.4503, 0.0769],\n",
       "        [0.4490, 0.0773],\n",
       "        [0.4492, 0.0760]], grad_fn=<AddmmBackward0>), hidden_states=None, attentions=None)"
      ]
     },
     "execution_count": 55,
     "metadata": {},
     "output_type": "execute_result"
    }
   ],
   "source": [
    "output = model(**batch)\n",
    "output"
   ]
  },
  {
   "cell_type": "code",
   "execution_count": 57,
   "metadata": {},
   "outputs": [
    {
     "data": {
      "text/plain": [
       "tensor([[0.5966, 0.4034],\n",
       "        [0.5954, 0.4046],\n",
       "        [0.5937, 0.4063],\n",
       "        [0.5942, 0.4058],\n",
       "        [0.5933, 0.4067],\n",
       "        [0.5923, 0.4077],\n",
       "        [0.5919, 0.4081],\n",
       "        [0.5922, 0.4078]], grad_fn=<SoftmaxBackward0>)"
      ]
     },
     "execution_count": 57,
     "metadata": {},
     "output_type": "execute_result"
    }
   ],
   "source": [
    "import torch\n",
    "s = torch.nn.functional.softmax(output.logits, dim=1)\n",
    "s"
   ]
  },
  {
   "cell_type": "code",
   "execution_count": 59,
   "metadata": {},
   "outputs": [
    {
     "data": {
      "text/plain": [
       "tensor([0.4034, 0.4046, 0.4063, 0.4058, 0.4067, 0.4077, 0.4081, 0.4078],\n",
       "       grad_fn=<SelectBackward0>)"
      ]
     },
     "execution_count": 59,
     "metadata": {},
     "output_type": "execute_result"
    }
   ],
   "source": [
    "# [Label2] / [[label1] + label[2])\n",
    "s[:, 1] "
   ]
  }
 ],
 "metadata": {
  "kernelspec": {
   "display_name": "transformers",
   "language": "python",
   "name": "python3"
  },
  "language_info": {
   "codemirror_mode": {
    "name": "ipython",
    "version": 3
   },
   "file_extension": ".py",
   "mimetype": "text/x-python",
   "name": "python",
   "nbconvert_exporter": "python",
   "pygments_lexer": "ipython3",
   "version": "3.11.5"
  }
 },
 "nbformat": 4,
 "nbformat_minor": 2
}
