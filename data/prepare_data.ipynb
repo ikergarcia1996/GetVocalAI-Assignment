{
 "cells": [
  {
   "cell_type": "markdown",
   "metadata": {},
   "source": [
    "# Prepare mutual dataset"
   ]
  },
  {
   "cell_type": "code",
   "execution_count": 43,
   "metadata": {},
   "outputs": [
    {
     "name": "stderr",
     "output_type": "stream",
     "text": [
      "/home/iker/miniconda3/envs/transformers/lib/python3.11/site-packages/datasets/load.py:1461: FutureWarning: The repository for EleutherAI/mutual contains custom code which must be executed to correctly load the dataset. You can inspect the repository content at https://hf.co/datasets/EleutherAI/mutual\n",
      "You can avoid this message in future by passing the argument `trust_remote_code=True`.\n",
      "Passing `trust_remote_code=True` will be mandatory to load this dataset from the next major release of `datasets`.\n",
      "  warnings.warn(\n"
     ]
    },
    {
     "data": {
      "application/vnd.jupyter.widget-view+json": {
       "model_id": "d0359b493d354163a70f60f210e534c3",
       "version_major": 2,
       "version_minor": 0
      },
      "text/plain": [
       "Downloading data: 0.00B [00:00, ?B/s]"
      ]
     },
     "metadata": {},
     "output_type": "display_data"
    },
    {
     "data": {
      "application/vnd.jupyter.widget-view+json": {
       "model_id": "eb61c3b7f7364248a61368297a44ce9e",
       "version_major": 2,
       "version_minor": 0
      },
      "text/plain": [
       "Generating train split: 0 examples [00:00, ? examples/s]"
      ]
     },
     "metadata": {},
     "output_type": "display_data"
    },
    {
     "data": {
      "application/vnd.jupyter.widget-view+json": {
       "model_id": "4a73ec9c62da4641befe0997eb3154c5",
       "version_major": 2,
       "version_minor": 0
      },
      "text/plain": [
       "Generating test split: 0 examples [00:00, ? examples/s]"
      ]
     },
     "metadata": {},
     "output_type": "display_data"
    },
    {
     "data": {
      "application/vnd.jupyter.widget-view+json": {
       "model_id": "8c954b902be942a19872f14f8646901d",
       "version_major": 2,
       "version_minor": 0
      },
      "text/plain": [
       "Generating validation split: 0 examples [00:00, ? examples/s]"
      ]
     },
     "metadata": {},
     "output_type": "display_data"
    }
   ],
   "source": [
    "from datasets import load_dataset\n",
    "import json \n",
    "\n",
    "ds = load_dataset(\"EleutherAI/mutual\",\"mutual\")"
   ]
  },
  {
   "cell_type": "code",
   "execution_count": 64,
   "metadata": {},
   "outputs": [
    {
     "data": {
      "text/plain": [
       "{'answers': 'C',\n",
       " 'options': [\"f : please wait a second . i 'll get dr. smith for you . he is right in his office .\",\n",
       "  \"f : sorry . we do n't know where dr. smith is . could you please try later ?\",\n",
       "  'f : ok. dr. smith is at his home now . you can try tomorrow .',\n",
       "  \"f : ok. dr. smith is in his office now . i 'll let him know you called when he gets home .\"],\n",
       " 'article': \"m : hello , is this doctor , smith 's office ? f : yes , it is . may i help you ? m : yes , i 'd like to speak to doctor smith , please ? f : doctor smith went home this afternoon . may i ask who is calling ? m : this is jim white .\",\n",
       " 'id': 'dev_100'}"
      ]
     },
     "execution_count": 64,
     "metadata": {},
     "output_type": "execute_result"
    }
   ],
   "source": [
    "ds[\"validation\"][2]"
   ]
  },
  {
   "cell_type": "code",
   "execution_count": 63,
   "metadata": {},
   "outputs": [
    {
     "data": {
      "text/plain": [
       "{'answers': 'D',\n",
       " 'options': ['m : the home phone number is 77221069 , right ?',\n",
       "  \"m : dr. smith 's office phone number is 77231059 , right ?\",\n",
       "  'm : the home phone number is 77231058 , right ?',\n",
       "  \"m : dr. smith 's home phone number is 77231059 , right ?\"],\n",
       " 'article': \"m : hello , is this doctor , smith 's office ? f : yes , it is . may i help you ? m : yes , i 'd like to speak to doctor smith , please ? f : doctor smith went home this afternoon . may i ask who is calling ? m : this is jim white . f : oh yes , mister white . doctor smith asked me to give you his home phone number . m : just a moment , please . yes , what 's the number ? f : his number is 77231059 .\",\n",
       " 'id': 'dev_101'}"
      ]
     },
     "execution_count": 63,
     "metadata": {},
     "output_type": "execute_result"
    }
   ],
   "source": [
    "ds[\"validation\"][3]"
   ]
  },
  {
   "cell_type": "code",
   "execution_count": 58,
   "metadata": {},
   "outputs": [],
   "source": [
    "def letter_position(letter):\n",
    "    letter = letter.lower()\n",
    "    position = ord(letter) - ord('a')\n",
    "    return position\n",
    "\n",
    "def extract_turns(conversation):\n",
    "    # Split the conversation by the pattern \" f :\" and \" m :\" to separate each turn\n",
    "    turns = conversation.split(\"f : \")\n",
    "    final_turns = []\n",
    "\n",
    "    # First part might start with m:, so handle that\n",
    "    if turns[0].startswith(\"m :\"):\n",
    "        sub_turns = turns[0].split(\"m : \")\n",
    "        for sub_turn in sub_turns:\n",
    "            if sub_turn.strip():  # Ensure it's not an empty string\n",
    "                final_turns.append({\"role\":\"A\", \"content\": sub_turn.strip()})\n",
    "        turns = turns[1:]\n",
    "\n",
    "    # Process the remaining turns\n",
    "    for turn in turns:\n",
    "        sub_turns = turn.split(\" m : \")\n",
    "        if sub_turns[0].strip():  # Ensure it's not an empty string\n",
    "            final_turns.append({\"role\":\"B\", \"content\": sub_turns[0].strip()})\n",
    "        if len(sub_turns) > 1 and sub_turns[1].strip():\n",
    "            final_turns.append({\"role\":\"A\", \"content\": sub_turns[1].strip()})\n",
    "    \n",
    "    return final_turns\n",
    "\n",
    "\n",
    "\n",
    "def preprocess_example(example):\n",
    "    options = example[\"options\"]\n",
    "    options = [extract_turns(option) for option in options]\n",
    "    conversation = extract_turns(example[\"article\"])\n",
    "    correct_option =letter_position(example[\"answers\"])\n",
    "    return {\"conversation\": conversation, \"candidates\": options, \"label\": correct_option}\n",
    "    \n"
   ]
  },
  {
   "cell_type": "code",
   "execution_count": 59,
   "metadata": {},
   "outputs": [
    {
     "name": "stdout",
     "output_type": "stream",
     "text": [
      "{\n",
      "    \"conversation\": [\n",
      "        {\n",
      "            \"role\": \"A\",\n",
      "            \"content\": \"is everything ready for billy 's birthday party ?\"\n",
      "        },\n",
      "        {\n",
      "            \"role\": \"B\",\n",
      "            \"content\": \"yes . i finished making the birthday cake and i put everything on the table . did you find the party hats ?\"\n",
      "        },\n",
      "        {\n",
      "            \"role\": \"A\",\n",
      "            \"content\": \"yes , i did . i put one for each child on the table . i put up the big `` happy birthday '' sign , too .\"\n",
      "        },\n",
      "        {\n",
      "            \"role\": \"B\",\n",
      "            \"content\": \"thanks , honey . do you think we have enough for the kids to eat and drink ?\"\n",
      "        },\n",
      "        {\n",
      "            \"role\": \"A\",\n",
      "            \"content\": \"i 'm sure we do . here 's enough food to feed an army .\"\n",
      "        },\n",
      "        {\n",
      "            \"role\": \"B\",\n",
      "            \"content\": \"that birthday cake looks beautiful , but you have n't put any candles on it yet .\"\n",
      "        }\n",
      "    ],\n",
      "    \"candidates\": [\n",
      "        [\n",
      "            {\n",
      "                \"role\": \"A\",\n",
      "                \"content\": \"when we finish making the birthday cake , we can start preparing for the birthday party .\"\n",
      "            }\n",
      "        ],\n",
      "        [\n",
      "            {\n",
      "                \"role\": \"A\",\n",
      "                \"content\": \"oh , i forget it , cooking a huge dinner is not easy .\"\n",
      "            }\n",
      "        ],\n",
      "        [\n",
      "            {\n",
      "                \"role\": \"A\",\n",
      "                \"content\": \"okay , i 'll put candles on it right away . i think i will be a little tired after all this preparation for this birthday party .\"\n",
      "            }\n",
      "        ],\n",
      "        [\n",
      "            {\n",
      "                \"role\": \"A\",\n",
      "                \"content\": \"the party is almost ready , but the food is not enough . let 's prepare some more .\"\n",
      "            }\n",
      "        ]\n",
      "    ],\n",
      "    \"label\": 2\n",
      "}\n"
     ]
    }
   ],
   "source": [
    "print(json.dumps(preprocess_example(ds[\"train\"][1]),ensure_ascii=False, indent=4))"
   ]
  },
  {
   "cell_type": "code",
   "execution_count": 60,
   "metadata": {},
   "outputs": [],
   "source": [
    "# Print the dataset to a jsonl file\n",
    "for split in [\"train\", \"validation\"]:\n",
    "    with open(f\"mutual_{split}.jsonl\", \"w\") as f:\n",
    "        for example in ds[split]:\n",
    "            processed_example = preprocess_example(example)\n",
    "            print(json.dumps(processed_example, ensure_ascii=False), file=f)\n"
   ]
  },
  {
   "cell_type": "markdown",
   "metadata": {},
   "source": [
    "# Daily Dialog"
   ]
  },
  {
   "cell_type": "code",
   "execution_count": 66,
   "metadata": {},
   "outputs": [
    {
     "name": "stderr",
     "output_type": "stream",
     "text": [
      "/home/iker/miniconda3/envs/transformers/lib/python3.11/site-packages/datasets/load.py:1461: FutureWarning: The repository for li2017dailydialog/daily_dialog contains custom code which must be executed to correctly load the dataset. You can inspect the repository content at https://hf.co/datasets/li2017dailydialog/daily_dialog\n",
      "You can avoid this message in future by passing the argument `trust_remote_code=True`.\n",
      "Passing `trust_remote_code=True` will be mandatory to load this dataset from the next major release of `datasets`.\n",
      "  warnings.warn(\n"
     ]
    },
    {
     "data": {
      "application/vnd.jupyter.widget-view+json": {
       "model_id": "4c7aadac228c4bb789e41fcc7079aa80",
       "version_major": 2,
       "version_minor": 0
      },
      "text/plain": [
       "Downloading builder script:   0%|          | 0.00/4.85k [00:00<?, ?B/s]"
      ]
     },
     "metadata": {},
     "output_type": "display_data"
    },
    {
     "data": {
      "application/vnd.jupyter.widget-view+json": {
       "model_id": "36341e06a1a142e699b31268732952bc",
       "version_major": 2,
       "version_minor": 0
      },
      "text/plain": [
       "Downloading readme:   0%|          | 0.00/7.27k [00:00<?, ?B/s]"
      ]
     },
     "metadata": {},
     "output_type": "display_data"
    },
    {
     "data": {
      "application/vnd.jupyter.widget-view+json": {
       "model_id": "4bba8b94b96440cd9aadd76eeff255a6",
       "version_major": 2,
       "version_minor": 0
      },
      "text/plain": [
       "Downloading data:   0%|          | 0.00/4.48M [00:00<?, ?B/s]"
      ]
     },
     "metadata": {},
     "output_type": "display_data"
    },
    {
     "data": {
      "application/vnd.jupyter.widget-view+json": {
       "model_id": "0f3954280c5e4a5ea8095f19c8be3ae0",
       "version_major": 2,
       "version_minor": 0
      },
      "text/plain": [
       "Generating train split:   0%|          | 0/11118 [00:00<?, ? examples/s]"
      ]
     },
     "metadata": {},
     "output_type": "display_data"
    },
    {
     "data": {
      "application/vnd.jupyter.widget-view+json": {
       "model_id": "69239d611dbb423494c126eceb761d6e",
       "version_major": 2,
       "version_minor": 0
      },
      "text/plain": [
       "Generating validation split:   0%|          | 0/1000 [00:00<?, ? examples/s]"
      ]
     },
     "metadata": {},
     "output_type": "display_data"
    },
    {
     "data": {
      "application/vnd.jupyter.widget-view+json": {
       "model_id": "34d78fceaf3b401984e640e5a93c5e28",
       "version_major": 2,
       "version_minor": 0
      },
      "text/plain": [
       "Generating test split:   0%|          | 0/1000 [00:00<?, ? examples/s]"
      ]
     },
     "metadata": {},
     "output_type": "display_data"
    }
   ],
   "source": [
    "from datasets import load_dataset\n",
    "import json \n",
    "import random \n",
    "\n",
    "ds = load_dataset(\"li2017dailydialog/daily_dialog\")"
   ]
  },
  {
   "cell_type": "code",
   "execution_count": 70,
   "metadata": {},
   "outputs": [
    {
     "data": {
      "text/plain": [
       "{'dialog': ['Say , Jim , how about going for a few beers after dinner ? ',\n",
       "  ' You know that is tempting but is really not good for our fitness . ',\n",
       "  ' What do you mean ? It will help us to relax . ',\n",
       "  \" Do you really think so ? I don't . It will just make us fat and act silly . Remember last time ? \",\n",
       "  \" I guess you are right.But what shall we do ? I don't feel like sitting at home . \",\n",
       "  ' I suggest a walk over to the gym where we can play singsong and meet some of our friends . ',\n",
       "  \" That's a good idea . I hear Mary and Sally often go there to play pingpong.Perhaps we can make a foursome with them . \",\n",
       "  ' Sounds great to me ! If they are willing , we could ask them to go dancing with us.That is excellent exercise and fun , too . ',\n",
       "  \" Good.Let ' s go now . \",\n",
       "  ' All right . '],\n",
       " 'act': [3, 4, 2, 2, 2, 3, 4, 1, 3, 4],\n",
       " 'emotion': [0, 0, 0, 0, 0, 0, 4, 4, 4, 4]}"
      ]
     },
     "execution_count": 70,
     "metadata": {},
     "output_type": "execute_result"
    }
   ],
   "source": [
    "ds[\"train\"][0]"
   ]
  },
  {
   "cell_type": "code",
   "execution_count": 125,
   "metadata": {},
   "outputs": [],
   "source": [
    "def preprocess_example(example):\n",
    "    conversation = example[\"dialog\"]\n",
    "    for i in range(len(conversation)):\n",
    "        conversation[i] = {\"role\": \"A\" if i % 2 == 0 else \"B\", \"content\": conversation[i].strip()}\n",
    "    return conversation\n",
    "\n",
    "def generate_candidates(conversation_idx, dataset,num_candidates:int=4, full_negative_prop:float=0.0):\n",
    "    all_negatives = random.random() < full_negative_prop\n",
    "    # Pick a random position to cut the conversation\n",
    "    conversation = dataset[conversation_idx]\n",
    "    cut_position = random.randint(len(conversation)//2, len(conversation) - 1)\n",
    "    # Cut the conversation\n",
    "    correct_next_turn = conversation[cut_position]\n",
    "    conversation = conversation[:cut_position]\n",
    "    # Pick three random conversations, but avoid conversation_idx\n",
    "    other_conversations = [i for i in range(len(dataset)) if i != conversation_idx]\n",
    "    candidates = random.sample(other_conversations, num_candidates if all_negatives > 0.0 else num_candidates-1)\n",
    "    candidates = [dataset[candidate] for candidate in candidates]\n",
    "    # Pick random turns from the candidates\n",
    "    candidates = [[random.choice(candidate)] for candidate in candidates]\n",
    "    turn_of_correct_next = correct_next_turn[\"role\"]\n",
    "    for candidate in candidates:\n",
    "        candidate[0][\"role\"] = turn_of_correct_next\n",
    "    \n",
    "    if all_negatives > 0.0:\n",
    "        insert_position = -1\n",
    "    else:\n",
    "        insert_position = random.randint(0, num_candidates-1)\n",
    "        candidates.insert(insert_position, [correct_next_turn])\n",
    "    return {\"conversation\": conversation, \"candidates\": candidates, \"label\": insert_position}\n",
    "\n",
    "    "
   ]
  },
  {
   "cell_type": "code",
   "execution_count": 126,
   "metadata": {},
   "outputs": [],
   "source": [
    "dataset = [preprocess_example(example) for example in ds[\"train\"]]"
   ]
  },
  {
   "cell_type": "code",
   "execution_count": 127,
   "metadata": {},
   "outputs": [
    {
     "data": {
      "text/plain": [
       "[{'role': 'A',\n",
       "  'content': 'Say , Jim , how about going for a few beers after dinner ?'},\n",
       " {'role': 'B',\n",
       "  'content': 'You know that is tempting but is really not good for our fitness .'},\n",
       " {'role': 'A', 'content': 'What do you mean ? It will help us to relax .'},\n",
       " {'role': 'B',\n",
       "  'content': \"Do you really think so ? I don't . It will just make us fat and act silly . Remember last time ?\"},\n",
       " {'role': 'A',\n",
       "  'content': \"I guess you are right.But what shall we do ? I don't feel like sitting at home .\"},\n",
       " {'role': 'B',\n",
       "  'content': 'I suggest a walk over to the gym where we can play singsong and meet some of our friends .'},\n",
       " {'role': 'A',\n",
       "  'content': \"That's a good idea . I hear Mary and Sally often go there to play pingpong.Perhaps we can make a foursome with them .\"},\n",
       " {'role': 'B',\n",
       "  'content': 'Sounds great to me ! If they are willing , we could ask them to go dancing with us.That is excellent exercise and fun , too .'},\n",
       " {'role': 'A', 'content': \"Good.Let ' s go now .\"},\n",
       " {'role': 'B', 'content': 'All right .'}]"
      ]
     },
     "execution_count": 127,
     "metadata": {},
     "output_type": "execute_result"
    }
   ],
   "source": [
    "dataset[0]"
   ]
  },
  {
   "cell_type": "code",
   "execution_count": 128,
   "metadata": {},
   "outputs": [
    {
     "data": {
      "text/plain": [
       "{'conversation': [{'role': 'A',\n",
       "   'content': 'Say , Jim , how about going for a few beers after dinner ?'},\n",
       "  {'role': 'B',\n",
       "   'content': 'You know that is tempting but is really not good for our fitness .'},\n",
       "  {'role': 'A', 'content': 'What do you mean ? It will help us to relax .'},\n",
       "  {'role': 'B',\n",
       "   'content': \"Do you really think so ? I don't . It will just make us fat and act silly . Remember last time ?\"},\n",
       "  {'role': 'A',\n",
       "   'content': \"I guess you are right.But what shall we do ? I don't feel like sitting at home .\"},\n",
       "  {'role': 'B',\n",
       "   'content': 'I suggest a walk over to the gym where we can play singsong and meet some of our friends .'},\n",
       "  {'role': 'A',\n",
       "   'content': \"That's a good idea . I hear Mary and Sally often go there to play pingpong.Perhaps we can make a foursome with them .\"}],\n",
       " 'candidates': [[{'role': 'B',\n",
       "    'content': \"I don't know exactly . I only hear it's financed by a famous film star .\"}],\n",
       "  [{'role': 'B',\n",
       "    'content': 'Sounds great to me ! If they are willing , we could ask them to go dancing with us.That is excellent exercise and fun , too .'}],\n",
       "  [{'role': 'B', 'content': 'No.May I help you ?'}],\n",
       "  [{'role': 'B',\n",
       "    'content': 'I haven ’ t been able to get a good night ’ s sleep lately . I ’ m exhausted !'}]],\n",
       " 'label': 1}"
      ]
     },
     "execution_count": 128,
     "metadata": {},
     "output_type": "execute_result"
    }
   ],
   "source": [
    "generate_candidates(0, dataset,full_negative_prop=0.0)"
   ]
  },
  {
   "cell_type": "code",
   "execution_count": 129,
   "metadata": {},
   "outputs": [],
   "source": [
    "for split in [\"train\", \"validation\", \"test\"]:\n",
    "    dataset = [preprocess_example(example) for example in ds[split]]\n",
    "    with open(f\"daily_dialog_{split}.jsonl\", \"w\") as f:\n",
    "        for i in range(len(dataset)):\n",
    "            processed_example = generate_candidates(i, dataset,full_negative_prop=0.0 if split == \"train\" else 0.1)\n",
    "            print(json.dumps(processed_example, ensure_ascii=False), file=f)"
   ]
  },
  {
   "cell_type": "code",
   "execution_count": 134,
   "metadata": {},
   "outputs": [],
   "source": [
    "d = {\"conversation\": [{\"role\": \"A\", \"content\": \"Good morning , sir . Is there a bank near here ?\"}, {\"role\": \"B\", \"content\": \"There is one . 5 blocks away from here ?\"}, {\"role\": \"A\", \"content\": \"Well , that's too far.Can you change some money for me ?\"}], \"candidates\": [[{\"role\": \"B\", \"content\": \"Alright . I'm sorry , Miss . According to our file , this prescription has already been refilled twice .\"}], [{\"role\": \"B\", \"content\": \"Of course , let me help you .\"}], [{\"role\": \"B\", \"content\": \"Would you mind if I ask some personal questions ?\"}], [{\"role\": \"B\", \"content\": \"Surely , of course . What kind of currency have you got ?\"}]], \"label\": 3}\n"
   ]
  },
  {
   "cell_type": "code",
   "execution_count": 135,
   "metadata": {},
   "outputs": [
    {
     "name": "stdout",
     "output_type": "stream",
     "text": [
      "{\n",
      "    \"conversation\": [\n",
      "        {\n",
      "            \"role\": \"A\",\n",
      "            \"content\": \"Good morning , sir . Is there a bank near here ?\"\n",
      "        },\n",
      "        {\n",
      "            \"role\": \"B\",\n",
      "            \"content\": \"There is one . 5 blocks away from here ?\"\n",
      "        },\n",
      "        {\n",
      "            \"role\": \"A\",\n",
      "            \"content\": \"Well , that's too far.Can you change some money for me ?\"\n",
      "        }\n",
      "    ],\n",
      "    \"candidates\": [\n",
      "        [\n",
      "            {\n",
      "                \"role\": \"B\",\n",
      "                \"content\": \"Alright . I'm sorry , Miss . According to our file , this prescription has already been refilled twice .\"\n",
      "            }\n",
      "        ],\n",
      "        [\n",
      "            {\n",
      "                \"role\": \"B\",\n",
      "                \"content\": \"Of course , let me help you .\"\n",
      "            }\n",
      "        ],\n",
      "        [\n",
      "            {\n",
      "                \"role\": \"B\",\n",
      "                \"content\": \"Would you mind if I ask some personal questions ?\"\n",
      "            }\n",
      "        ],\n",
      "        [\n",
      "            {\n",
      "                \"role\": \"B\",\n",
      "                \"content\": \"Surely , of course . What kind of currency have you got ?\"\n",
      "            }\n",
      "        ]\n",
      "    ],\n",
      "    \"label\": 3\n",
      "}\n"
     ]
    }
   ],
   "source": [
    "print(json.dumps(d,ensure_ascii=False, indent=4))"
   ]
  },
  {
   "cell_type": "code",
   "execution_count": 112,
   "metadata": {},
   "outputs": [
    {
     "data": {
      "text/plain": [
       "4"
      ]
     },
     "execution_count": 112,
     "metadata": {},
     "output_type": "execute_result"
    }
   ],
   "source": []
  },
  {
   "cell_type": "code",
   "execution_count": 113,
   "metadata": {},
   "outputs": [
    {
     "data": {
      "text/plain": [
       "[1, 2, 3]"
      ]
     },
     "execution_count": 113,
     "metadata": {},
     "output_type": "execute_result"
    }
   ],
   "source": []
  }
 ],
 "metadata": {
  "kernelspec": {
   "display_name": "transformers",
   "language": "python",
   "name": "python3"
  },
  "language_info": {
   "codemirror_mode": {
    "name": "ipython",
    "version": 3
   },
   "file_extension": ".py",
   "mimetype": "text/x-python",
   "name": "python",
   "nbconvert_exporter": "python",
   "pygments_lexer": "ipython3",
   "version": "3.11.5"
  }
 },
 "nbformat": 4,
 "nbformat_minor": 2
}
